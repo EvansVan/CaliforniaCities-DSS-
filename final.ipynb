{
 "cells": [
  {
   "cell_type": "code",
   "execution_count": 1,
   "metadata": {},
   "outputs": [
    {
     "name": "stderr",
     "output_type": "stream",
     "text": [
      "Matplotlib is building the font cache; this may take a moment.\n"
     ]
    }
   ],
   "source": [
    "import pandas as pd\n",
    "import numpy as np\n",
    "import matplotlib.pyplot as plt"
   ]
  },
  {
   "cell_type": "code",
   "execution_count": 10,
   "metadata": {},
   "outputs": [
    {
     "data": {
      "text/html": [
       "<div>\n",
       "<style scoped>\n",
       "    .dataframe tbody tr th:only-of-type {\n",
       "        vertical-align: middle;\n",
       "    }\n",
       "\n",
       "    .dataframe tbody tr th {\n",
       "        vertical-align: top;\n",
       "    }\n",
       "\n",
       "    .dataframe thead th {\n",
       "        text-align: right;\n",
       "    }\n",
       "</style>\n",
       "<table border=\"1\" class=\"dataframe\">\n",
       "  <thead>\n",
       "    <tr style=\"text-align: right;\">\n",
       "      <th></th>\n",
       "      <th>Unnamed: 0</th>\n",
       "      <th>latd</th>\n",
       "      <th>longd</th>\n",
       "      <th>elevation_m</th>\n",
       "      <th>elevation_ft</th>\n",
       "      <th>population_total</th>\n",
       "      <th>area_total_sq_mi</th>\n",
       "      <th>area_land_sq_mi</th>\n",
       "      <th>area_water_sq_mi</th>\n",
       "      <th>area_total_km2</th>\n",
       "      <th>area_land_km2</th>\n",
       "      <th>area_water_km2</th>\n",
       "      <th>area_water_percent</th>\n",
       "    </tr>\n",
       "    <tr>\n",
       "      <th>city</th>\n",
       "      <th></th>\n",
       "      <th></th>\n",
       "      <th></th>\n",
       "      <th></th>\n",
       "      <th></th>\n",
       "      <th></th>\n",
       "      <th></th>\n",
       "      <th></th>\n",
       "      <th></th>\n",
       "      <th></th>\n",
       "      <th></th>\n",
       "      <th></th>\n",
       "      <th></th>\n",
       "    </tr>\n",
       "  </thead>\n",
       "  <tbody>\n",
       "    <tr>\n",
       "      <th>Adelanto</th>\n",
       "      <td>0</td>\n",
       "      <td>34.576111</td>\n",
       "      <td>-117.432778</td>\n",
       "      <td>875.0</td>\n",
       "      <td>2871.0</td>\n",
       "      <td>31765</td>\n",
       "      <td>56.027</td>\n",
       "      <td>56.009</td>\n",
       "      <td>0.018</td>\n",
       "      <td>145.107</td>\n",
       "      <td>145.062</td>\n",
       "      <td>0.046</td>\n",
       "      <td>0.03</td>\n",
       "    </tr>\n",
       "    <tr>\n",
       "      <th>AgouraHills</th>\n",
       "      <td>1</td>\n",
       "      <td>34.153333</td>\n",
       "      <td>-118.761667</td>\n",
       "      <td>281.0</td>\n",
       "      <td>922.0</td>\n",
       "      <td>20330</td>\n",
       "      <td>7.822</td>\n",
       "      <td>7.793</td>\n",
       "      <td>0.029</td>\n",
       "      <td>20.260</td>\n",
       "      <td>20.184</td>\n",
       "      <td>0.076</td>\n",
       "      <td>0.37</td>\n",
       "    </tr>\n",
       "    <tr>\n",
       "      <th>Alameda</th>\n",
       "      <td>2</td>\n",
       "      <td>37.756111</td>\n",
       "      <td>-122.274444</td>\n",
       "      <td>NaN</td>\n",
       "      <td>33.0</td>\n",
       "      <td>75467</td>\n",
       "      <td>22.960</td>\n",
       "      <td>10.611</td>\n",
       "      <td>12.349</td>\n",
       "      <td>59.465</td>\n",
       "      <td>27.482</td>\n",
       "      <td>31.983</td>\n",
       "      <td>53.79</td>\n",
       "    </tr>\n",
       "    <tr>\n",
       "      <th>Albany</th>\n",
       "      <td>3</td>\n",
       "      <td>37.886944</td>\n",
       "      <td>-122.297778</td>\n",
       "      <td>NaN</td>\n",
       "      <td>43.0</td>\n",
       "      <td>18969</td>\n",
       "      <td>5.465</td>\n",
       "      <td>1.788</td>\n",
       "      <td>3.677</td>\n",
       "      <td>14.155</td>\n",
       "      <td>4.632</td>\n",
       "      <td>9.524</td>\n",
       "      <td>67.28</td>\n",
       "    </tr>\n",
       "    <tr>\n",
       "      <th>Alhambra</th>\n",
       "      <td>4</td>\n",
       "      <td>34.081944</td>\n",
       "      <td>-118.135000</td>\n",
       "      <td>150.0</td>\n",
       "      <td>492.0</td>\n",
       "      <td>83089</td>\n",
       "      <td>7.632</td>\n",
       "      <td>7.631</td>\n",
       "      <td>0.001</td>\n",
       "      <td>19.766</td>\n",
       "      <td>19.763</td>\n",
       "      <td>0.003</td>\n",
       "      <td>0.01</td>\n",
       "    </tr>\n",
       "    <tr>\n",
       "      <th>...</th>\n",
       "      <td>...</td>\n",
       "      <td>...</td>\n",
       "      <td>...</td>\n",
       "      <td>...</td>\n",
       "      <td>...</td>\n",
       "      <td>...</td>\n",
       "      <td>...</td>\n",
       "      <td>...</td>\n",
       "      <td>...</td>\n",
       "      <td>...</td>\n",
       "      <td>...</td>\n",
       "      <td>...</td>\n",
       "      <td>...</td>\n",
       "    </tr>\n",
       "    <tr>\n",
       "      <th>Yountville</th>\n",
       "      <td>477</td>\n",
       "      <td>38.403056</td>\n",
       "      <td>-122.362222</td>\n",
       "      <td>30.0</td>\n",
       "      <td>98.0</td>\n",
       "      <td>2933</td>\n",
       "      <td>1.531</td>\n",
       "      <td>1.531</td>\n",
       "      <td>0.000</td>\n",
       "      <td>3.966</td>\n",
       "      <td>3.966</td>\n",
       "      <td>0.000</td>\n",
       "      <td>0.00</td>\n",
       "    </tr>\n",
       "    <tr>\n",
       "      <th>Yreka</th>\n",
       "      <td>478</td>\n",
       "      <td>41.726667</td>\n",
       "      <td>-122.637500</td>\n",
       "      <td>787.0</td>\n",
       "      <td>2582.0</td>\n",
       "      <td>7765</td>\n",
       "      <td>10.053</td>\n",
       "      <td>9.980</td>\n",
       "      <td>0.073</td>\n",
       "      <td>26.036</td>\n",
       "      <td>25.847</td>\n",
       "      <td>0.188</td>\n",
       "      <td>0.72</td>\n",
       "    </tr>\n",
       "    <tr>\n",
       "      <th>YubaCity</th>\n",
       "      <td>479</td>\n",
       "      <td>39.134722</td>\n",
       "      <td>-121.626111</td>\n",
       "      <td>18.0</td>\n",
       "      <td>59.0</td>\n",
       "      <td>64925</td>\n",
       "      <td>14.656</td>\n",
       "      <td>14.578</td>\n",
       "      <td>0.078</td>\n",
       "      <td>37.959</td>\n",
       "      <td>37.758</td>\n",
       "      <td>0.201</td>\n",
       "      <td>0.53</td>\n",
       "    </tr>\n",
       "    <tr>\n",
       "      <th>Yucaipa</th>\n",
       "      <td>480</td>\n",
       "      <td>34.030278</td>\n",
       "      <td>-117.048611</td>\n",
       "      <td>798.0</td>\n",
       "      <td>2618.0</td>\n",
       "      <td>51367</td>\n",
       "      <td>27.893</td>\n",
       "      <td>27.888</td>\n",
       "      <td>0.005</td>\n",
       "      <td>72.244</td>\n",
       "      <td>72.231</td>\n",
       "      <td>0.013</td>\n",
       "      <td>0.02</td>\n",
       "    </tr>\n",
       "    <tr>\n",
       "      <th>YuccaValley</th>\n",
       "      <td>481</td>\n",
       "      <td>34.133333</td>\n",
       "      <td>-116.416667</td>\n",
       "      <td>1027.0</td>\n",
       "      <td>3369.0</td>\n",
       "      <td>20700</td>\n",
       "      <td>40.015</td>\n",
       "      <td>40.015</td>\n",
       "      <td>0.000</td>\n",
       "      <td>103.639</td>\n",
       "      <td>103.639</td>\n",
       "      <td>0.000</td>\n",
       "      <td>0.00</td>\n",
       "    </tr>\n",
       "  </tbody>\n",
       "</table>\n",
       "<p>482 rows × 13 columns</p>\n",
       "</div>"
      ],
      "text/plain": [
       "             Unnamed: 0       latd       longd  elevation_m  elevation_ft  \\\n",
       "city                                                                        \n",
       "Adelanto              0  34.576111 -117.432778        875.0        2871.0   \n",
       "AgouraHills           1  34.153333 -118.761667        281.0         922.0   \n",
       "Alameda               2  37.756111 -122.274444          NaN          33.0   \n",
       "Albany                3  37.886944 -122.297778          NaN          43.0   \n",
       "Alhambra              4  34.081944 -118.135000        150.0         492.0   \n",
       "...                 ...        ...         ...          ...           ...   \n",
       "Yountville          477  38.403056 -122.362222         30.0          98.0   \n",
       "Yreka               478  41.726667 -122.637500        787.0        2582.0   \n",
       "YubaCity            479  39.134722 -121.626111         18.0          59.0   \n",
       "Yucaipa             480  34.030278 -117.048611        798.0        2618.0   \n",
       "YuccaValley         481  34.133333 -116.416667       1027.0        3369.0   \n",
       "\n",
       "             population_total  area_total_sq_mi  area_land_sq_mi  \\\n",
       "city                                                               \n",
       "Adelanto                31765            56.027           56.009   \n",
       "AgouraHills             20330             7.822            7.793   \n",
       "Alameda                 75467            22.960           10.611   \n",
       "Albany                  18969             5.465            1.788   \n",
       "Alhambra                83089             7.632            7.631   \n",
       "...                       ...               ...              ...   \n",
       "Yountville               2933             1.531            1.531   \n",
       "Yreka                    7765            10.053            9.980   \n",
       "YubaCity                64925            14.656           14.578   \n",
       "Yucaipa                 51367            27.893           27.888   \n",
       "YuccaValley             20700            40.015           40.015   \n",
       "\n",
       "             area_water_sq_mi  area_total_km2  area_land_km2  area_water_km2  \\\n",
       "city                                                                           \n",
       "Adelanto                0.018         145.107        145.062           0.046   \n",
       "AgouraHills             0.029          20.260         20.184           0.076   \n",
       "Alameda                12.349          59.465         27.482          31.983   \n",
       "Albany                  3.677          14.155          4.632           9.524   \n",
       "Alhambra                0.001          19.766         19.763           0.003   \n",
       "...                       ...             ...            ...             ...   \n",
       "Yountville              0.000           3.966          3.966           0.000   \n",
       "Yreka                   0.073          26.036         25.847           0.188   \n",
       "YubaCity                0.078          37.959         37.758           0.201   \n",
       "Yucaipa                 0.005          72.244         72.231           0.013   \n",
       "YuccaValley             0.000         103.639        103.639           0.000   \n",
       "\n",
       "             area_water_percent  \n",
       "city                             \n",
       "Adelanto                   0.03  \n",
       "AgouraHills                0.37  \n",
       "Alameda                   53.79  \n",
       "Albany                    67.28  \n",
       "Alhambra                   0.01  \n",
       "...                         ...  \n",
       "Yountville                 0.00  \n",
       "Yreka                      0.72  \n",
       "YubaCity                   0.53  \n",
       "Yucaipa                    0.02  \n",
       "YuccaValley                0.00  \n",
       "\n",
       "[482 rows x 13 columns]"
      ]
     },
     "execution_count": 10,
     "metadata": {},
     "output_type": "execute_result"
    }
   ],
   "source": [
    "ds = pd.read_csv( \"/home/vans/Desktop/schul/DSS/demo/California_cities.csv\", index_col=['city'])\n",
    "ds"
   ]
  },
  {
   "cell_type": "code",
   "execution_count": 5,
   "metadata": {},
   "outputs": [
    {
     "name": "stdout",
     "output_type": "stream",
     "text": [
      "       Unnamed: 0        latd       longd  elevation_m  elevation_ft  \\\n",
      "count  482.000000  482.000000  482.000000   434.000000    470.000000   \n",
      "mean   240.500000   36.095088 -119.837714   180.416705    567.168723   \n",
      "std    139.285678    2.298006    2.147676   309.531825   1001.265722   \n",
      "min      0.000000   32.578333 -124.263333   -34.000000   -180.000000   \n",
      "25%    120.250000   33.977292 -121.954931    22.000000     69.000000   \n",
      "50%    240.500000   36.204722 -119.708611    67.000000    200.000000   \n",
      "75%    360.750000   37.886667 -117.977292   173.500000    515.000000   \n",
      "max    481.000000   41.965000 -114.596389  2402.000000   7880.000000   \n",
      "\n",
      "       population_total  area_total_sq_mi  area_land_sq_mi  area_water_sq_mi  \\\n",
      "count      4.820000e+02        480.000000       482.000000        481.000000   \n",
      "mean       6.489493e+04         18.442183        16.840981          1.589630   \n",
      "std        2.032041e+05         36.363230        32.694647          9.490386   \n",
      "min        1.000000e+00          0.314000         0.314000          0.000000   \n",
      "25%        1.090200e+04          3.708250         3.506500          0.000000   \n",
      "50%        2.905750e+04          9.093000         8.362000          0.029000   \n",
      "75%        6.646650e+04         19.878250        19.090000          0.244000   \n",
      "max        3.884307e+06        503.000000       469.000000        185.020000   \n",
      "\n",
      "       area_total_km2  area_land_km2  area_water_km2  area_water_percent  \n",
      "count      477.000000     478.000000      478.000000          477.000000  \n",
      "mean        46.753283      43.547021        3.125178            5.301801  \n",
      "std         90.972269      84.933022       11.562269           14.656428  \n",
      "min          0.813000       0.813000        0.000000            0.000000  \n",
      "25%          9.551000       9.025000        0.000250            0.000000  \n",
      "50%         23.551000      21.533000        0.078500            0.340000  \n",
      "75%         51.772000      49.322000        0.623250            1.870000  \n",
      "max       1302.000000    1214.000000      122.270000           84.580000  \n"
     ]
    }
   ],
   "source": [
    "#Checking the values of central tendancies\n",
    "print(ds.describe())"
   ]
  },
  {
   "cell_type": "code",
   "execution_count": 9,
   "metadata": {},
   "outputs": [
    {
     "name": "stdout",
     "output_type": "stream",
     "text": [
      "Unnamed: 0             0\n",
      "latd                   0\n",
      "longd                  0\n",
      "elevation_m           48\n",
      "elevation_ft          12\n",
      "population_total       0\n",
      "area_total_sq_mi       2\n",
      "area_land_sq_mi        0\n",
      "area_water_sq_mi       1\n",
      "area_total_km2         5\n",
      "area_land_km2          4\n",
      "area_water_km2         4\n",
      "area_water_percent     5\n",
      "dtype: int64\n"
     ]
    }
   ],
   "source": [
    "#Checking for null values\n",
    "print(ds.isnull().sum())"
   ]
  },
  {
   "cell_type": "code",
   "execution_count": 11,
   "metadata": {},
   "outputs": [],
   "source": [
    "#Handling missing values replacing with a measure of central tendacy\n",
    "ds['elevation_m'].fillna(ds['elevation_m'].mean(), inplace=True)\n",
    "ds['elevation_ft'].fillna(ds['elevation_ft'].mode()[0], inplace=True)\n",
    "ds['area_total_sq_mi'].fillna(ds['area_total_sq_mi'].median(), inplace=True)\n",
    "ds['area_water_sq_mi'].fillna(ds['area_water_sq_mi'].mean(), inplace=True)\n",
    "ds['area_total_km2'].fillna(ds['area_total_km2'].mode()[0], inplace=True)\n",
    "ds['area_land_km2'].fillna(ds['area_land_km2'].median(), inplace=True)\n",
    "ds['area_water_km2'].fillna(ds['area_water_km2'].mode()[0], inplace=True)\n",
    "ds['area_water_percent'].fillna(ds['area_water_percent'].mode()[0], inplace=True)"
   ]
  },
  {
   "cell_type": "code",
   "execution_count": 12,
   "metadata": {},
   "outputs": [
    {
     "name": "stdout",
     "output_type": "stream",
     "text": [
      "Unnamed: 0            0\n",
      "latd                  0\n",
      "longd                 0\n",
      "elevation_m           0\n",
      "elevation_ft          0\n",
      "population_total      0\n",
      "area_total_sq_mi      0\n",
      "area_land_sq_mi       0\n",
      "area_water_sq_mi      0\n",
      "area_total_km2        0\n",
      "area_land_km2         0\n",
      "area_water_km2        0\n",
      "area_water_percent    0\n",
      "dtype: int64\n"
     ]
    }
   ],
   "source": [
    "#Checking if null values are filled \n",
    "print(ds.isnull().sum())"
   ]
  },
  {
   "cell_type": "code",
   "execution_count": 19,
   "metadata": {},
   "outputs": [
    {
     "name": "stdout",
     "output_type": "stream",
     "text": [
      "city\n",
      "ImperialBeach    32.578333\n",
      "ChulaVista       32.627778\n",
      "Coronado         32.678056\n",
      "NationalCity     32.678056\n",
      "Calexico         32.678889\n",
      "SanDiego         32.715000\n",
      "LemonGrove       32.741389\n",
      "LaMesa           32.771389\n",
      "ElCajon          32.798333\n",
      "ElCentro         32.800000\n",
      "Name: latd, dtype: float64\n",
      "count    10.000000\n",
      "mean     32.706722\n",
      "std       0.072786\n",
      "min      32.578333\n",
      "25%      32.678056\n",
      "50%      32.696944\n",
      "75%      32.763889\n",
      "max      32.800000\n",
      "Name: latd, dtype: float64\n"
     ]
    }
   ],
   "source": [
    "#Get the ten lowest values of latitude and stores in a variable\n",
    "lats = ds['latd'].nsmallest(10)\n",
    "print(lats)"
   ]
  },
  {
   "cell_type": "code",
   "execution_count": 21,
   "metadata": {},
   "outputs": [
    {
     "name": "stdout",
     "output_type": "stream",
     "text": [
      "count    10.000000\n",
      "mean     32.706722\n",
      "std       0.072786\n",
      "min      32.578333\n",
      "25%      32.678056\n",
      "50%      32.696944\n",
      "75%      32.763889\n",
      "max      32.800000\n",
      "Name: latd, dtype: float64\n"
     ]
    }
   ],
   "source": [
    "#Prints the mean,max.min,std & median\n",
    "print(lats.describe())"
   ]
  },
  {
   "cell_type": "code",
   "execution_count": 22,
   "metadata": {},
   "outputs": [
    {
     "name": "stdout",
     "output_type": "stream",
     "text": [
      "city\n",
      "Brawley      -34.00\n",
      "Coachella    -20.74\n",
      "Imperial     -18.00\n",
      "ElCentro     -12.00\n",
      "Indio         -4.00\n",
      "Holtville     -3.00\n",
      "LaQuinta       0.00\n",
      "FosterCity     2.00\n",
      "SuisunCity     2.00\n",
      "Isleton        3.00\n",
      "Name: elevation_m, dtype: float64\n"
     ]
    }
   ],
   "source": [
    "#Get the ten lowest values of elevation in metres and stores in a variable and prints them\n",
    "mita = ds['elevation_m'].nsmallest(10)\n",
    "print(mita)"
   ]
  },
  {
   "cell_type": "code",
   "execution_count": 23,
   "metadata": {},
   "outputs": [
    {
     "name": "stdout",
     "output_type": "stream",
     "text": [
      "city\n",
      "LosAngeles      3884307\n",
      "SanDiego        1345895\n",
      "SanJose         1000536\n",
      "SanFrancisco     837442\n",
      "Fresno           509039\n",
      "Sacramento       466488\n",
      "LongBeach        462257\n",
      "Oakland          406253\n",
      "Bakersfield      347483\n",
      "Anaheim          336000\n",
      "Name: population_total, dtype: int64\n"
     ]
    }
   ],
   "source": [
    "#Cities with top ten highest populations\n",
    "top = ds['population_total'].nlargest(10)\n",
    "print(top)"
   ]
  },
  {
   "cell_type": "code",
   "execution_count": 25,
   "metadata": {},
   "outputs": [
    {
     "name": "stdout",
     "output_type": "stream",
     "text": [
      "                area_total_km2  population_total\n",
      "city                                            \n",
      "LosAngeles            1302.000           3884307\n",
      "SanDiego               964.510           1345895\n",
      "CaliforniaCity         527.401             14120\n",
      "SanJose                466.109           1000536\n",
      "Bakersfield            371.946            347483\n",
      "Fresno                 290.877            509039\n",
      "Palmdale               275.099            152750\n",
      "Sacramento             259.273            466488\n",
      "PalmSprings            245.984             44552\n",
      "Lancaster              244.876            156633\n"
     ]
    }
   ],
   "source": [
    "#Area total in km2 to population totals\n",
    "sita = ds[['area_total_km2', 'population_total']].nlargest(10, 'area_total_km2')\n",
    "print(sita)"
   ]
  },
  {
   "cell_type": "code",
   "execution_count": 27,
   "metadata": {},
   "outputs": [
    {
     "data": {
      "image/png": "[encoded data removed]",
      "text/plain": [
       "<Figure size 432x288 with 1 Axes>"
      ]
     },
     "metadata": {
      "needs_background": "light"
     },
     "output_type": "display_data"
    }
   ],
   "source": [
    "#sita plot\n",
    "plt.plot('area_total_km2' , 'population_total', data=sita)\n",
    "plt.xlabel('Area total km2')\n",
    "plt.ylabel('Population Totals')\n",
    "plt.title('Population in realtion to area')\n",
    "plt.legend()\n",
    "plt.show()"
   ]
  },
  {
   "cell_type": "code",
   "execution_count": 28,
   "metadata": {},
   "outputs": [
    {
     "name": "stdout",
     "output_type": "stream",
     "text": [
      "                elevation_ft  population_total\n",
      "city                                          \n",
      "MammothLakes          7880.0              8234\n",
      "BigBearLake           6752.0              5019\n",
      "SouthLakeTahoe        6237.0             21403\n",
      "Truckee               5817.0             16180\n",
      "Loyalton              4951.0               769\n",
      "Portola               4856.0              2104\n",
      "Alturas               4370.0              2827\n",
      "Dorris                4245.0               939\n",
      "Susanville            4186.0             17974\n",
      "Bishop                4150.0              3879\n"
     ]
    }
   ],
   "source": [
    "#Top ten cities in ft to their respective population totals\n",
    "saba = ds[['elevation_ft', 'population_total']].nlargest(10, 'elevation_ft')\n",
    "print(saba)"
   ]
  },
  {
   "cell_type": "code",
   "execution_count": 29,
   "metadata": {},
   "outputs": [
    {
     "data": {
      "image/png": "[encoded data removed]",
      "text/plain": [
       "<Figure size 432x288 with 1 Axes>"
      ]
     },
     "metadata": {
      "needs_background": "light"
     },
     "output_type": "display_data"
    }
   ],
   "source": [
    "#saba plot\n",
    "plt.plot('elevation_ft' , 'population_total', data=saba)\n",
    "plt.xlabel('Elevation')\n",
    "plt.ylabel('Population Totals')\n",
    "plt.title('Population in relation to elevation')\n",
    "plt.legend()\n",
    "plt.show()"
   ]
  }
 ],
 "metadata": {
  "kernelspec": {
   "display_name": "'Python Interactive'",
   "language": "python",
   "name": "3b0c870a-cfc0-41d0-b939-f942b46f2dc9"
  },
  "language_info": {
   "codemirror_mode": {
    "name": "ipython",
    "version": 3
   },
   "file_extension": ".py",
   "mimetype": "text/x-python",
   "name": "python",
   "nbconvert_exporter": "python",
   "pygments_lexer": "ipython3",
   "version": "3.9.7"
  }
 },
 "nbformat": 4,
 "nbformat_minor": 4
}
